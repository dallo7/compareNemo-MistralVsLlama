{
  "nbformat": 4,
  "nbformat_minor": 0,
  "metadata": {
    "colab": {
      "provenance": []
    },
    "kernelspec": {
      "name": "python3",
      "display_name": "Python 3"
    },
    "language_info": {
      "name": "python"
    }
  },
  "cells": [
    {
      "cell_type": "code",
      "execution_count": 1,
      "metadata": {
        "colab": {
          "base_uri": "https://localhost:8080/"
        },
        "id": "w9gJ6WjZquKG",
        "outputId": "22cffb22-3358-48ae-d192-2c2b46050635"
      },
      "outputs": [
        {
          "output_type": "stream",
          "name": "stdout",
          "text": [
            "Collecting gradio_client\n",
            "  Downloading gradio_client-1.1.1-py3-none-any.whl.metadata (7.1 kB)\n",
            "Requirement already satisfied: fsspec in /usr/local/lib/python3.10/dist-packages (from gradio_client) (2024.6.1)\n",
            "Collecting httpx>=0.24.1 (from gradio_client)\n",
            "  Downloading httpx-0.27.0-py3-none-any.whl.metadata (7.2 kB)\n",
            "Requirement already satisfied: huggingface-hub>=0.19.3 in /usr/local/lib/python3.10/dist-packages (from gradio_client) (0.23.5)\n",
            "Requirement already satisfied: packaging in /usr/local/lib/python3.10/dist-packages (from gradio_client) (24.1)\n",
            "Requirement already satisfied: typing-extensions~=4.0 in /usr/local/lib/python3.10/dist-packages (from gradio_client) (4.12.2)\n",
            "Collecting websockets<12.0,>=10.0 (from gradio_client)\n",
            "  Downloading websockets-11.0.3-cp310-cp310-manylinux_2_5_x86_64.manylinux1_x86_64.manylinux_2_17_x86_64.manylinux2014_x86_64.whl.metadata (6.6 kB)\n",
            "Requirement already satisfied: anyio in /usr/local/lib/python3.10/dist-packages (from httpx>=0.24.1->gradio_client) (3.7.1)\n",
            "Requirement already satisfied: certifi in /usr/local/lib/python3.10/dist-packages (from httpx>=0.24.1->gradio_client) (2024.7.4)\n",
            "Collecting httpcore==1.* (from httpx>=0.24.1->gradio_client)\n",
            "  Downloading httpcore-1.0.5-py3-none-any.whl.metadata (20 kB)\n",
            "Requirement already satisfied: idna in /usr/local/lib/python3.10/dist-packages (from httpx>=0.24.1->gradio_client) (3.7)\n",
            "Requirement already satisfied: sniffio in /usr/local/lib/python3.10/dist-packages (from httpx>=0.24.1->gradio_client) (1.3.1)\n",
            "Collecting h11<0.15,>=0.13 (from httpcore==1.*->httpx>=0.24.1->gradio_client)\n",
            "  Downloading h11-0.14.0-py3-none-any.whl.metadata (8.2 kB)\n",
            "Requirement already satisfied: filelock in /usr/local/lib/python3.10/dist-packages (from huggingface-hub>=0.19.3->gradio_client) (3.15.4)\n",
            "Requirement already satisfied: pyyaml>=5.1 in /usr/local/lib/python3.10/dist-packages (from huggingface-hub>=0.19.3->gradio_client) (6.0.1)\n",
            "Requirement already satisfied: requests in /usr/local/lib/python3.10/dist-packages (from huggingface-hub>=0.19.3->gradio_client) (2.31.0)\n",
            "Requirement already satisfied: tqdm>=4.42.1 in /usr/local/lib/python3.10/dist-packages (from huggingface-hub>=0.19.3->gradio_client) (4.66.4)\n",
            "Requirement already satisfied: exceptiongroup in /usr/local/lib/python3.10/dist-packages (from anyio->httpx>=0.24.1->gradio_client) (1.2.2)\n",
            "Requirement already satisfied: charset-normalizer<4,>=2 in /usr/local/lib/python3.10/dist-packages (from requests->huggingface-hub>=0.19.3->gradio_client) (3.3.2)\n",
            "Requirement already satisfied: urllib3<3,>=1.21.1 in /usr/local/lib/python3.10/dist-packages (from requests->huggingface-hub>=0.19.3->gradio_client) (2.0.7)\n",
            "Downloading gradio_client-1.1.1-py3-none-any.whl (318 kB)\n",
            "\u001b[2K   \u001b[90m━━━━━━━━━━━━━━━━━━━━━━━━━━━━━━━━━━━━━━━━\u001b[0m \u001b[32m318.2/318.2 kB\u001b[0m \u001b[31m11.1 MB/s\u001b[0m eta \u001b[36m0:00:00\u001b[0m\n",
            "\u001b[?25hDownloading httpx-0.27.0-py3-none-any.whl (75 kB)\n",
            "\u001b[2K   \u001b[90m━━━━━━━━━━━━━━━━━━━━━━━━━━━━━━━━━━━━━━━━\u001b[0m \u001b[32m75.6/75.6 kB\u001b[0m \u001b[31m4.5 MB/s\u001b[0m eta \u001b[36m0:00:00\u001b[0m\n",
            "\u001b[?25hDownloading httpcore-1.0.5-py3-none-any.whl (77 kB)\n",
            "\u001b[2K   \u001b[90m━━━━━━━━━━━━━━━━━━━━━━━━━━━━━━━━━━━━━━━━\u001b[0m \u001b[32m77.9/77.9 kB\u001b[0m \u001b[31m5.3 MB/s\u001b[0m eta \u001b[36m0:00:00\u001b[0m\n",
            "\u001b[?25hDownloading websockets-11.0.3-cp310-cp310-manylinux_2_5_x86_64.manylinux1_x86_64.manylinux_2_17_x86_64.manylinux2014_x86_64.whl (129 kB)\n",
            "\u001b[2K   \u001b[90m━━━━━━━━━━━━━━━━━━━━━━━━━━━━━━━━━━━━━━━━\u001b[0m \u001b[32m129.9/129.9 kB\u001b[0m \u001b[31m8.0 MB/s\u001b[0m eta \u001b[36m0:00:00\u001b[0m\n",
            "\u001b[?25hDownloading h11-0.14.0-py3-none-any.whl (58 kB)\n",
            "\u001b[2K   \u001b[90m━━━━━━━━━━━━━━━━━━━━━━━━━━━━━━━━━━━━━━━━\u001b[0m \u001b[32m58.3/58.3 kB\u001b[0m \u001b[31m3.7 MB/s\u001b[0m eta \u001b[36m0:00:00\u001b[0m\n",
            "\u001b[?25hInstalling collected packages: websockets, h11, httpcore, httpx, gradio_client\n",
            "Successfully installed gradio_client-1.1.1 h11-0.14.0 httpcore-1.0.5 httpx-0.27.0 websockets-11.0.3\n"
          ]
        }
      ],
      "source": [
        "!pip install gradio_client"
      ]
    },
    {
      "cell_type": "markdown",
      "source": [
        "First Llama 3.1 8B model prompt is not very precise, it gives out more text than we want it to! We just want jsonn with the email signature"
      ],
      "metadata": {
        "id": "qz_KhBIRCpSW"
      }
    },
    {
      "cell_type": "code",
      "source": [
        "from gradio_client import Client\n",
        "\n",
        "client = Client(\"vilarin/Llama-3.1-8B-Instruct\")\n",
        "\n",
        "systemPrompt = '''You are a helpful and meticulous assistant specializing in extracting structured information from text. Your primary task is to identify and extract the following entities from a given text:\n",
        "\n",
        "* **Full Name:** The complete name of a person.\n",
        "* **Email Address:** A valid email address in the format user@domain.com.\n",
        "* **Company Name:** The name of an organization or business.\n",
        "* **Location:** The physical address or geographic location.\n",
        "* **Telephone Number:**  A phone number in any standard format.\n",
        "\n",
        "If any of these entities are not present in the text, you should explicitly indicate that they were not found. Your response should be presented in a clear and concise format, ideally using bullet points or a similar structure to organize the extracted information.\n",
        "'''\n",
        "\n",
        "msg = '''Jane Doe, Sales & Marketing Director at ABC Company (3373 Gregory Lane, 40601 Frankfort, t: (800) 555-1133, e: jane.doe@example.com, www.example.com) emailed Mike to follow up on a project discussed during a meeting, asking if he had any updates or needed assistance. The email, inspired by professional email signature examples from blog.hubspot.com/marketing/professional-email-signatures, notes its confidentiality and requests that it be deleted if received in error. [invalid URL removed] may offer further context on similar professional communications'''\n",
        "\n",
        "result = client.predict(\n",
        "  message=msg,\n",
        "  system_prompt=systemPrompt,\n",
        "  temperature=0.8,\n",
        "  max_new_tokens=1024,\n",
        "  top_p=1,\n",
        "  top_k=20,\n",
        "  penalty=1.2,\n",
        "  api_name=\"/chat\"\n",
        ")\n",
        "\n",
        "print(result)"
      ],
      "metadata": {
        "colab": {
          "base_uri": "https://localhost:8080/"
        },
        "id": "g5lNJgVyFtxC",
        "outputId": "b5f4ae55-aec6-4d5c-ab93-eabee4bf5550"
      },
      "execution_count": null,
      "outputs": [
        {
          "output_type": "stream",
          "name": "stdout",
          "text": [
            "Loaded as API: https://vilarin-llama-3-1-8b-instruct.hf.space ✔\n",
            "Here's the extracted information organized into bullets:\n",
            "\n",
            "• **Full Name**: Jane Doe\n",
            "• **Email Address**: jane.doe@example.com\n",
            "• **Company Name**: ABC Company\n",
            "• **Location**: 3373 Gregory Lane, 40601 Frankfort\n",
            "• **Telephone Number**: Not formatted as requested; however, I was able to partially interpret the provided telephone number which appears to match \"t: (800) 555-1133\" \n",
            "\n",
            "Note that while the telephone number seems to conform to some known formats, there isn't enough detail for absolute identification according to specified requirements. The entity 'company website' wasn't requested but included for completeness: \n",
            "www.example.com\n"
          ]
        }
      ]
    },
    {
      "cell_type": "markdown",
      "source": [
        "Even after after one-shot prompting it's not effecient"
      ],
      "metadata": {
        "id": "b8xPN1IWDKZa"
      }
    },
    {
      "cell_type": "code",
      "source": [
        "from gradio_client import Client\n",
        "\n",
        "client = Client(\"vilarin/Llama-3.1-8B-Instruct\")\n",
        "\n",
        "system_prompt = \"\"\"You are a helpful and meticulous assistant specializing in extracting structured information from text. Your primary task is to identify and extract the following entities from a given text and return them in JSON format:\n",
        "\n",
        "{\n",
        "\"Full Name\": \"...\",\n",
        "\"Email Address\": \"...\",\n",
        "\"Company Name\": \"...\",\n",
        "\"Location\": \"...\",\n",
        "\"Telephone Number\": \"...\"\n",
        "}\n",
        "\n",
        "If an entity is not found, its value should be set to \"Not Found\".\n",
        "\n",
        "Prioritize accuracy and completeness when extracting information. If you are unsure about a value, indicate \"Not Found\" rather than guessing.\n",
        "* **Location:** This could be a full street address, city and state, or even just a country.\n",
        "* **Telephone Number:** Include country codes if present, and format as +[Country Code] [Number].\n",
        "\n",
        "\n",
        "Example:\n",
        "Text: \"John Doe (john.doe@email.com) called from ACME Corp. in New York (123) 456-7890.\"\n",
        "\n",
        "Response:\n",
        "{\n",
        "\"Full Name\": \"John Doe\",\n",
        "\"Email Address\": \"john.doe@email.com\",\n",
        "\"Company Name\": \"ACME Corp.\",\n",
        "\"Location\": \"New York\",\n",
        "\"Telephone Number\": \"(123) 456-7890\"\n",
        "}\n",
        "\"\"\"\n",
        "\n",
        "msg = '''Jane Doe, Sales & Marketing Director at ABC Company (3373 Gregory Lane, 40601 Frankfort, t: (800) 555-1133, e: jane.doe@example.com, www.example.com) emailed Mike to follow up on a project discussed during a meeting, asking if he had any updates or needed assistance. The email, inspired by professional email signature examples from blog.hubspot.com/marketing/professional-email-signatures, notes its confidentiality and requests that it be deleted if received in error. [invalid URL removed] may offer further context on similar professional communications'''\n",
        "\n",
        "\n",
        "result = client.predict(\n",
        "message=msg,\n",
        "system_prompt=system_prompt,\n",
        "temperature=0.2,\n",
        "max_new_tokens=1024,\n",
        "top_p=0.95,\n",
        "api_name=\"/chat\"\n",
        ")\n",
        "\n",
        "print(result)"
      ],
      "metadata": {
        "colab": {
          "base_uri": "https://localhost:8080/"
        },
        "id": "b7nQ-kqPlgFZ",
        "outputId": "e8ce7548-166e-4b32-cde4-5af4cc720359"
      },
      "execution_count": 3,
      "outputs": [
        {
          "output_type": "stream",
          "name": "stderr",
          "text": [
            "/usr/local/lib/python3.10/dist-packages/huggingface_hub/utils/_token.py:89: UserWarning: \n",
            "The secret `HF_TOKEN` does not exist in your Colab secrets.\n",
            "To authenticate with the Hugging Face Hub, create a token in your settings tab (https://huggingface.co/settings/tokens), set it as secret in your Google Colab and restart your session.\n",
            "You will be able to reuse this secret in all of your notebooks.\n",
            "Please note that authentication is recommended but still optional to access public models or datasets.\n",
            "  warnings.warn(\n"
          ]
        },
        {
          "output_type": "stream",
          "name": "stdout",
          "text": [
            "Loaded as API: https://vilarin-llama-3-1-8b-instruct.hf.space ✔\n",
            "Here's the extracted data in JSON format:\n",
            "\n",
            "```json\n",
            "{\n",
            "    \"Full Name\": \"Jane Doe\",\n",
            "    \"Email Address\": \"jane.doe@example.com\",\n",
            "    \"Company Name\": \"ABC Company\",\n",
            "    \"Location\": \"Frankfort, 40601\",\n",
            "    \"Telephone Number\": \"+1 (800) 555-1133\"\n",
            "}\n",
            "```\n",
            "\n",
            "Note that I've formatted the telephone number with a plus sign (+) for international dialing and included the country code '1' assuming it's a US-based phone number. Also, since there was no explicit mention of Jane's title being part of her name, I didn't include it in the Full Name field.\n",
            "\n",
            "I did not attempt to parse the invalid URL mentioned in the original message because it does not contain relevant contact information.\n"
          ]
        }
      ]
    },
    {
      "cell_type": "markdown",
      "source": [
        "Nemo-Mistral is more accurate an Robust, parsing the same prompt i parsed to llama and it get it right"
      ],
      "metadata": {
        "id": "ZtbBUD22Didl"
      }
    },
    {
      "cell_type": "code",
      "source": [
        "client = Client(\"vilarin/Mistral-Nemo\")\n",
        "\n",
        "jane_doe_text = \"Jane Doe, Sales & Marketing Director at ABC Company (3373 Gregory Lane, 40601 Frankfort, t: (800) 555-1133, e: jane.doe@example.com, www.example.com) emailed Mike to follow up on a project discussed during a meeting, asking if he had any updates or needed assistance. The email, inspired by professional email signature examples from blog.hubspot.com/marketing/professional-email-signatures, notes its confidentiality and requests that it be deleted if received in error. [invalid URL removed] may offer further context on similar professional communications\"\n",
        "\n",
        "msg = f\"\"\"You are a helpful and meticulous assistant specializing in extracting structured information from text. Your primary task is to identify and extract the following entities from this text:\n",
        "\n",
        "'{jane_doe_text}'\n",
        "\n",
        "* **Full Name:** The complete name of a person.\n",
        "* **Email Address:** A valid email address in the format user@domain.com.\n",
        "* **Company Name:** The name of an organization or business.\n",
        "* **Location:** The physical address or geographic location.\n",
        "* **Telephone Number:** A phone number in any standard format.\n",
        "\n",
        "If any of these entities are not present in the text, you should explicitly indicate that they were not found. Your response should be presented in a clear and concise format, ideally using bullet points or a similar structure to organize the extracted information.\"\"\"\n",
        "\n",
        "\n",
        "result = client.predict(\n",
        "  message=msg,\n",
        "  temperature=0.3,\n",
        "  max_new_tokens=1024,\n",
        "  top_p=1,\n",
        "  top_k=20,\n",
        "  penalty=1.2,\n",
        "  api_name=\"/chat\"\n",
        ")\n",
        "print(result)"
      ],
      "metadata": {
        "colab": {
          "base_uri": "https://localhost:8080/"
        },
        "id": "a4rzK_HBICj-",
        "outputId": "fab6d41e-f311-49ee-9f3d-119940efb224"
      },
      "execution_count": null,
      "outputs": [
        {
          "output_type": "stream",
          "name": "stdout",
          "text": [
            "Loaded as API: https://vilarin-mistral-nemo.hf.space ✔\n",
            "- **Full Name:** Jane Doe\n",
            "- **Email Address:** jane.doe@example.com\n",
            "- **Company Name:** ABC Company\n",
            "- **Location:** 3373 Gregory Lane, 40601 Frankfort\n",
            "- **Telephone Number:** (800) 555-1133\n",
            "- **Website:** www.example.com\n"
          ]
        }
      ]
    },
    {
      "cell_type": "markdown",
      "source": [
        "Final Prompts and wrapper to filter the output of llama 3.1 8B"
      ],
      "metadata": {
        "id": "knzOc0pTCDEK"
      }
    },
    {
      "cell_type": "code",
      "source": [
        "from gradio_client import Client\n",
        "\n",
        "client = Client(\"vilarin/Mistral-Nemo\")\n",
        "\n",
        "user_prompt = \"\"\"Jane Doe, Sales & Marketing Director at ABC Company (3373 Gregory Lane, 40601 Frankfort, t: (800) 555-1133, e: jane.doe@example.com, www.example.com) emailed Mike to follow up on a project discussed during a meeting, asking if he had any updates or needed assistance. The email, inspired by professional email signature examples from blog.hubspot.com/marketing/professional-email-signatures, notes its confidentiality and requests that it be deleted if received in error. [invalid URL removed] may offer further context on similar professional communications\"\"\"\n",
        "\n",
        "msg = f\"\"\"You are a helpful and meticulous assistant specializing in extracting structured information from text. Your primary task is to identify and extract the following entities from a given text and return them in JSON format:\n",
        "\n",
        "{{\n",
        "\"Full Name\": \"...\",\n",
        "\"Email Address\": \"...\",\n",
        "\"Company Name\": \"...\",\n",
        "\"Location\": \"...\",\n",
        "\"Telephone Number\": \"...\"\n",
        "}}\n",
        "\n",
        "If an entity is not found, its value should be set to \"Not Found\".\n",
        "\n",
        "Prioritize accuracy and completeness when extracting information. If you are unsure about a value, indicate \"Not Found\" rather than guessing.\n",
        "* **Location:** This could be a full street address, city and state, or even just a country.\n",
        "* **Telephone Number:** Include country codes if present, and format as +[Country Code] [Number].\n",
        "\n",
        "\n",
        "Example:\n",
        "Text: \"John Doe (john.doe@email.com) called from ACME Corp. in New York (123) 456-7890.\"\n",
        "\n",
        "Response:\n",
        "{{\n",
        "\"Full Name\": \"John Doe\",\n",
        "\"Email Address\": \"john.doe@email.com\",\n",
        "\"Company Name\": \"ACME Corp.\",\n",
        "\"Location\": \"New York\",\n",
        "\"Telephone Number\": \"(123) 456-7890\"\n",
        "}}\n",
        "\n",
        "Now extract information from this text:\n",
        "\n",
        "'{user_prompt}'\n",
        "\"\"\"\n",
        "\n",
        "# Make the API call\n",
        "result = client.predict(\n",
        "  message=msg,\n",
        "  temperature=0.2,\n",
        "  max_new_tokens=1024,\n",
        "  top_p=0.95,\n",
        "  api_name=\"/chat\"\n",
        ")\n",
        "\n",
        "print(result)"
      ],
      "metadata": {
        "colab": {
          "base_uri": "https://localhost:8080/"
        },
        "id": "1NZYhU-Zp6O6",
        "outputId": "182ed25b-8691-4f1b-ca45-69625d80cc9c"
      },
      "execution_count": 42,
      "outputs": [
        {
          "output_type": "stream",
          "name": "stdout",
          "text": [
            "Loaded as API: https://vilarin-mistral-nemo.hf.space ✔\n",
            "{\n",
            "\"Full Name\": \"Jane Doe\",\n",
            "\"Email Address\": \"jane.doe@example.com\",\n",
            "\"Company Name\": \"ABC Company\",\n",
            "\"Location\": \"3373 Gregory Lane, 40601 Frankfort\",\n",
            "\"Telephone Number\": \"(800) 555-1133\"\n",
            "}\n"
          ]
        }
      ]
    },
    {
      "cell_type": "markdown",
      "source": [
        "Building a output wrapper for the llama model"
      ],
      "metadata": {
        "id": "d4oJjXrWD9Fp"
      }
    },
    {
      "cell_type": "code",
      "source": [
        "import re\n",
        "\n",
        "def filterOutput(result_text):\n",
        "  pattern = r\"\\{([^{}]*)\\}\"\n",
        "  matches = re.findall(pattern, result_text)\n",
        "  cleaned_string = matches[0].strip().replace('\\n  ', '')\n",
        "  data_dict = json.loads(f\"{{{cleaned_string}}}\")\n",
        "  formatted_output = \"\\n\".join([f\" **{key}: {value}\" for key, value in data_dict.items()])\n",
        "  return formatted_output"
      ],
      "metadata": {
        "id": "N0ocLuqQuBXY"
      },
      "execution_count": 56,
      "outputs": []
    },
    {
      "cell_type": "code",
      "source": [
        "import json\n",
        "\n",
        "def bulletPoints(data_string):\n",
        "  cleaned_string = data_string[0].strip().replace('\\n  ', '')\n",
        "  data_dict = json.loads(f\"{{{cleaned_string}}}\")\n",
        "  for key, value in data_dict.items():\n",
        "      ret=f\"- {key}: {value}\"\n",
        "      return ret"
      ],
      "metadata": {
        "colab": {
          "base_uri": "https://localhost:8080/"
        },
        "id": "Zofm0PHQ59pT",
        "outputId": "e63b05b1-52b2-4efd-9d73-4c087abe267b"
      },
      "execution_count": 33,
      "outputs": [
        {
          "output_type": "stream",
          "name": "stdout",
          "text": [
            "- Full Name: Jane Doe\n",
            "- Title: Sales & Marketing Director\n",
            "- Company Name: ABC Company\n",
            "- Address: 3373 Gregory Lane, 40601 Frankfort\n",
            "- Phone Number: (800) 555-1133\n",
            "- Email Address: jane.doe@example.com\n",
            "- Website: www.example.com\n"
          ]
        }
      ]
    },
    {
      "cell_type": "code",
      "source": [
        "from gradio_client import Client\n",
        "\n",
        "client = Client(\"vilarin/Llama-3.1-8B-Instruct\")\n",
        "\n",
        "user_prompt = \"\"\"Jane Doe, Sales & Marketing Director at ABC Company (3373 Gregory Lane, 40601 Frankfort, t: (800) 555-1133, e: jane.doe@example.com, www.example.com) emailed Mike to follow up on a project discussed during a meeting, asking if he had any updates or needed assistance. The email, inspired by professional email signature examples from blog.hubspot.com/marketing/professional-email-signatures, notes its confidentiality and requests that it be deleted if received in error. [invalid URL removed] may offer further context on similar professional communications\"\"\"\n",
        "\n",
        "msg = f\"\"\"Extract ONLY the email signature from the following text and return it in JSON format. If there is no signature, return \"Not Found\".\n",
        "{{\n",
        "\"Full Name\": \"...\",\n",
        "\"Email Address\": \"...\",\n",
        "\"Company Name\": \"...\",\n",
        "\"Location\": \"...\",\n",
        "\"Telephone Number\": \"...\"\n",
        "}}\n",
        "\n",
        "If an entity is not found, its value should be set to \"Not Found\".\n",
        "\n",
        "Prioritize accuracy and completeness when extracting information. If you are unsure about a value, indicate \"Not Found\" rather than guessing.\n",
        "* **Location:** This could be a full street address, city and state, or even just a country.\n",
        "* **Telephone Number:** Include country codes if present, and format as +[Country Code] [Number].\n",
        "\n",
        "\n",
        "Example:\n",
        "Text: \"John Doe (john.doe@email.com) called from ACME Corp. in New York (123) 456-7890.\"\n",
        "\n",
        "Response:\n",
        "{{\n",
        "\"Full Name\": \"John Doe\",\n",
        "\"Email Address\": \"john.doe@acmecorp.com\",\n",
        "\"Company Name\": \"ACME Corp.\",\n",
        "\"Location\": \"Anytown, CA 12345\",\n",
        "\"Telephone Number\": \"(123) 456-7890\"\n",
        "}}\n",
        "\n",
        "Now extract the signature from this text:\n",
        "\n",
        "'{user_prompt}'\n",
        "\"\"\"\n",
        "\n",
        "result = client.predict(\n",
        "  message=msg,\n",
        "  temperature=0.2,\n",
        "  max_new_tokens=1024,\n",
        "  top_p=0.95,\n",
        "  api_name=\"/chat\"\n",
        ")\n",
        "\n",
        "print(filterOutput(result))"
      ],
      "metadata": {
        "colab": {
          "base_uri": "https://localhost:8080/"
        },
        "id": "nAJapgcTreKf",
        "outputId": "2d0ba402-2c53-4e26-a32e-d4d76ef573ad"
      },
      "execution_count": 58,
      "outputs": [
        {
          "output_type": "stream",
          "name": "stdout",
          "text": [
            "Loaded as API: https://vilarin-llama-3-1-8b-instruct.hf.space ✔\n",
            " **Full Name: Jane Doe\n",
            " **Title: Sales & Marketing Director\n",
            " **Company Name: ABC Company\n",
            " **Address: 3373 Gregory Lane, 40601 Frankfort\n",
            " **Phone Number: (800) 555-1133\n",
            " **Email Address: jane.doe@example.com\n",
            " **Website: www.example.com\n"
          ]
        }
      ]
    }
  ]
}